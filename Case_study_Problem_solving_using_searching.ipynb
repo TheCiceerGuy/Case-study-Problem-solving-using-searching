{
  "nbformat": 4,
  "nbformat_minor": 0,
  "metadata": {
    "colab": {
      "provenance": [],
      "authorship_tag": "ABX9TyNBtbqyxX2gJDZv/z/8U+ud",
      "include_colab_link": true
    },
    "kernelspec": {
      "name": "python3",
      "display_name": "Python 3"
    },
    "language_info": {
      "name": "python"
    }
  },
  "cells": [
    {
      "cell_type": "markdown",
      "metadata": {
        "id": "view-in-github",
        "colab_type": "text"
      },
      "source": [
        "<a href=\"https://colab.research.google.com/github/TheCiceerGuy/Case-study-Problem-solving-using-searching/blob/main/Case_study_Problem_solving_using_searching.ipynb\" target=\"_parent\"><img src=\"https://colab.research.google.com/assets/colab-badge.svg\" alt=\"Open In Colab\"/></a>"
      ]
    },
    {
      "cell_type": "markdown",
      "source": [
        "Importing Libraries\n"
      ],
      "metadata": {
        "id": "TTl1565LzJmH"
      }
    },
    {
      "cell_type": "code",
      "execution_count": 1,
      "metadata": {
        "id": "Dd9ctbrbpDA7"
      },
      "outputs": [],
      "source": [
        "import heapq"
      ]
    },
    {
      "cell_type": "markdown",
      "source": [
        "Define the graph representing the road network.\n",
        "let's assume a dictionary where keys are locations and values are lists of neighboring locations with their respective distances."
      ],
      "metadata": {
        "id": "7S55xsCMzcy7"
      }
    },
    {
      "cell_type": "code",
      "source": [
        "graph = {\n",
        "    'Hattisar': {'Airport': 5, 'Location2': 3},\n",
        "    'Airport': {'Tribhuvan Airport': 2},\n",
        "    'Location2': {'Tribhuvan Airport': 4},\n",
        "    'Tribhuvan Airport': {}\n",
        "}"
      ],
      "metadata": {
        "id": "FFDkpf26zlfj"
      },
      "execution_count": 2,
      "outputs": []
    },
    {
      "cell_type": "markdown",
      "source": [
        "Uninformed Search Algorithm (Breadth-First Search)\n"
      ],
      "metadata": {
        "id": "-ijr4ezZ0uRE"
      }
    },
    {
      "cell_type": "code",
      "source": [
        "def bfs(graph, start, goal):\n",
        "    queue = [(start, [start])]\n",
        "    while queue:\n",
        "        (node, path) = queue.pop(0)\n",
        "        for next_node in graph[node]:\n",
        "            if next_node not in path:\n",
        "                if next_node == goal:\n",
        "                    return path + [next_node]\n",
        "                else:\n",
        "                    queue.append((next_node, path + [next_node]))"
      ],
      "metadata": {
        "id": "8-U0D7_t0yjH"
      },
      "execution_count": 3,
      "outputs": []
    },
    {
      "cell_type": "markdown",
      "source": [
        "Informed Search Algorithm (A* Search)"
      ],
      "metadata": {
        "id": "CoAp5D-f0-ge"
      }
    },
    {
      "cell_type": "markdown",
      "source": [
        "Define a heuristic function estimating the remaining distance\n"
      ],
      "metadata": {
        "id": "uQ4NIvOy1BvB"
      }
    },
    {
      "cell_type": "code",
      "source": [
        "def heuristic(node, goal):\n",
        "  return 0"
      ],
      "metadata": {
        "id": "0MkAlZ2w1AeX"
      },
      "execution_count": 5,
      "outputs": []
    },
    {
      "cell_type": "markdown",
      "source": [
        "Assuming straight-line distance, so heuristic is 0"
      ],
      "metadata": {
        "id": "dvQwIoxj1VRT"
      }
    },
    {
      "cell_type": "code",
      "source": [
        "def astar(graph, start, goal):\n",
        "    queue = [(0, start, [start])]\n",
        "    while queue:\n",
        "        (cost, node, path) = heapq.heappop(queue)\n",
        "        if node == goal:\n",
        "            return path\n",
        "        for next_node in graph[node]:\n",
        "            if next_node not in path:\n",
        "                heapq.heappush(queue, (cost + graph[node][next_node] + heuristic(next_node, goal), next_node, path + [next_node]))"
      ],
      "metadata": {
        "id": "ZaQu0zeo1rwO"
      },
      "execution_count": 6,
      "outputs": []
    },
    {
      "cell_type": "markdown",
      "source": [
        "Setting Parameters\n"
      ],
      "metadata": {
        "id": "U2TlC42916nC"
      }
    },
    {
      "cell_type": "code",
      "source": [
        "start_location = 'Hattisar'\n",
        "goal_location = 'Tribhuvan Airport'"
      ],
      "metadata": {
        "id": "1StPA9Kl18qz"
      },
      "execution_count": 7,
      "outputs": []
    },
    {
      "cell_type": "markdown",
      "source": [
        "Uninformed Search (BFS)"
      ],
      "metadata": {
        "id": "jy02FyiD2CSu"
      }
    },
    {
      "cell_type": "code",
      "source": [
        "print(\"Uninformed Search (BFS):\")\n",
        "print(bfs(graph, start_location, goal_location))"
      ],
      "metadata": {
        "colab": {
          "base_uri": "https://localhost:8080/"
        },
        "id": "jI6bDj_G2F2H",
        "outputId": "424a6f23-d152-4771-9e9e-54efafd755d6"
      },
      "execution_count": 8,
      "outputs": [
        {
          "output_type": "stream",
          "name": "stdout",
          "text": [
            "Uninformed Search (BFS):\n",
            "['Hattisar', 'Airport', 'Tribhuvan Airport']\n"
          ]
        }
      ]
    },
    {
      "cell_type": "markdown",
      "source": [
        "Informed Search (A* Search)"
      ],
      "metadata": {
        "id": "nfQvMm8m2K6L"
      }
    },
    {
      "cell_type": "code",
      "source": [
        "print(\"\\nInformed Search (A*):\")\n",
        "print(astar(graph, start_location, goal_location))"
      ],
      "metadata": {
        "colab": {
          "base_uri": "https://localhost:8080/"
        },
        "id": "uzM-wJyp2PPR",
        "outputId": "9d058e25-03e8-41cc-c62f-b3980f9405bf"
      },
      "execution_count": 9,
      "outputs": [
        {
          "output_type": "stream",
          "name": "stdout",
          "text": [
            "\n",
            "Informed Search (A*):\n",
            "['Hattisar', 'Airport', 'Tribhuvan Airport']\n"
          ]
        }
      ]
    },
    {
      "cell_type": "markdown",
      "source": [
        "**Conclusion**"
      ],
      "metadata": {
        "id": "9ZfDVunx2gg6"
      }
    },
    {
      "cell_type": "markdown",
      "source": [
        "In this case study, we explored the route planning problem from Hattisar to Tribhuvan International Airport in Kathmandu, Nepal, utilizing both uninformed (Breadth-First Search) and informed (A* Search) search algorithms. The objective was to find the shortest and most efficient route for a traveler.\n",
        "\n",
        "Through the application of uninformed search using Breadth-First Search (BFS), we systematically explored the road network between Hattisar and Tribhuvan Airport. BFS ensures that all possible paths are explored layer by layer, guaranteeing that the shortest path is found. However, this method can become computationally expensive as the search space grows.\n",
        "\n",
        "On the other hand, the informed search algorithm A* Search leverages a heuristic function to guide the search towards the goal while also considering the actual cost incurred. By incorporating an estimate of the remaining distance to the destination, A* Search efficiently explores the most promising paths first, significantly reducing the search space and computational overhead compared to BFS.\n",
        "\n",
        "In conclusion, both uninformed and informed search algorithms provide viable solutions for route planning. Uninformed search, such as BFS, guarantees finding the optimal solution but may suffer from scalability issues. In contrast, informed search algorithms like A* Search provide efficient solutions by incorporating domain-specific knowledge through heuristics, balancing optimality and computational efficiency. The choice between these algorithms depends on the specific requirements of the application, considering factors such as computational resources, time constraints, and the accuracy of available heuristic information.\n",
        "\n",
        "> Indented block\n",
        "\n"
      ],
      "metadata": {
        "id": "kJjiqzxM2jxN"
      }
    },
    {
      "cell_type": "markdown",
      "source": [],
      "metadata": {
        "id": "fRJOyoOa2nlm"
      }
    }
  ]
}